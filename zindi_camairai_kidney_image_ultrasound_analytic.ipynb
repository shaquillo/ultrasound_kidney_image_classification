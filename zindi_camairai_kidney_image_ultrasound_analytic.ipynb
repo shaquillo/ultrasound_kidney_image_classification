{
  "nbformat": 4,
  "nbformat_minor": 0,
  "metadata": {
    "colab": {
      "name": "zindi_camairai_kidney_image_ultrasound_analytic.ipynb",
      "provenance": [],
      "collapsed_sections": [
        "ZYAl3kx817Bn",
        "Je8wQNL-3mrg",
        "ZOUcacaZ_9x8",
        "U5TX7U0ADR6b",
        "AKrxLGTIDhYT",
        "6OvL_QlmluWa",
        "4RwB1UoVmEUL",
        "RWYXAXV6bAhI"
      ],
      "toc_visible": true
    },
    "kernelspec": {
      "name": "python3",
      "display_name": "Python 3"
    },
    "language_info": {
      "name": "python"
    }
  },
  "cells": [
    {
      "cell_type": "markdown",
      "metadata": {
        "id": "3gJGb5Pfv9ns"
      },
      "source": [
        "---\n",
        "# *Zindi - Cameroon Advance Analytic Ultrasound Image Challenge by Camair-AI*\n",
        "---\n",
        "\n",
        "## Participant Information\n",
        "\n",
        "- *CHIMI YOUKAP OREAL*\n",
        "- chimishaguile@gmail.com\n",
        "- +237 671090017\n",
        "- 4th year Computer Engineering, National Advanced School of Engineering Yaoundé (École Nationale Supérieure Polytechnique Yaoundé - ENSPY) \n",
        "\n",
        "---"
      ]
    },
    {
      "cell_type": "markdown",
      "metadata": {
        "id": "-45-UHdQyE4S"
      },
      "source": [
        "# Login to Zindi\n"
      ]
    },
    {
      "cell_type": "code",
      "metadata": {
        "id": "6G3b2JjS-Boq"
      },
      "source": [
        "import warnings\n",
        "warnings.filterwarnings('ignore')"
      ],
      "execution_count": null,
      "outputs": []
    },
    {
      "cell_type": "code",
      "metadata": {
        "id": "5ZFBGvZZgGYQ",
        "colab": {
          "base_uri": "https://localhost:8080/"
        },
        "outputId": "6f8ffb51-778e-4358-8a45-73bb5c43afd0"
      },
      "source": [
        "!pip install -q git+https://github.com/eaedk/testing-zindi-package.git"
      ],
      "execution_count": null,
      "outputs": [
        {
          "output_type": "stream",
          "text": [
            "  Building wheel for zindi (setup.py) ... \u001b[?25l\u001b[?25hdone\n"
          ],
          "name": "stdout"
        }
      ]
    },
    {
      "cell_type": "code",
      "metadata": {
        "id": "Y79lp5y6MV-M"
      },
      "source": [
        "from zindi.user import Zindian"
      ],
      "execution_count": null,
      "outputs": []
    },
    {
      "cell_type": "code",
      "metadata": {
        "colab": {
          "base_uri": "https://localhost:8080/"
        },
        "id": "ef5BNc1MMdUs",
        "outputId": "913e4c37-be41-40d1-bd54-55e478371a1a"
      },
      "source": [
        "my_username = \"shaq\"\n",
        "user = Zindian(username = my_username)   # wop32Mz7@8PLWLLpC!z72093"
      ],
      "execution_count": null,
      "outputs": [
        {
          "output_type": "stream",
          "text": [
            "Your password\n",
            ">> ··········\n",
            "\n",
            "[ 🟢 ] 👋🏾👋🏾 Welcome shaq 👋🏾👋🏾\n",
            "\n"
          ],
          "name": "stdout"
        }
      ]
    },
    {
      "cell_type": "code",
      "metadata": {
        "colab": {
          "base_uri": "https://localhost:8080/"
        },
        "id": "yVdFcdOfMgbA",
        "outputId": "b1fb7243-1627-407f-d827-8f25b8fbd8dc"
      },
      "source": [
        "user.select_a_challenge(fixed_index=15)"
      ],
      "execution_count": null,
      "outputs": [
        {
          "output_type": "stream",
          "text": [
            "\n",
            "[ 🟢 ] You choose the challenge : cameroon-advance-analytic-ultrasound-image-challenge,\n",
            "\tGiven ultrasounds of kidneys can you detect renal failure?.\n",
            "\n"
          ],
          "name": "stdout"
        }
      ]
    },
    {
      "cell_type": "markdown",
      "metadata": {
        "id": "HPhCdS8ozuIT"
      },
      "source": [
        "# Dataset Download"
      ]
    },
    {
      "cell_type": "code",
      "metadata": {
        "colab": {
          "base_uri": "https://localhost:8080/"
        },
        "id": "9m7iIiYTR3Je",
        "outputId": "40d121e2-c3d7-4607-f0cf-9ee4408741ab"
      },
      "source": [
        "user.download_dataset(\"/content/data\")"
      ],
      "execution_count": null,
      "outputs": [
        {
          "output_type": "stream",
          "text": [
            "/content/data/images.zip: 100%|██████████| 15.3M/15.3M [00:01<00:00, 11.4Mo/s]\n",
            "/content/data/Train.csv: 100%|██████████| 1.58k/1.58k [00:00<00:00, 873ko/s]\n",
            "/content/data/Test.csv: 100%|██████████| 484/484 [00:00<00:00, 154ko/s]\n",
            "/content/data/SampleSubmission.csv: 100%|██████████| 525/525 [00:00<00:00, 158ko/s]\n"
          ],
          "name": "stderr"
        }
      ]
    },
    {
      "cell_type": "code",
      "metadata": {
        "id": "45-SKCeN0R8b"
      },
      "source": [
        "from zipfile import ZipFile"
      ],
      "execution_count": null,
      "outputs": []
    },
    {
      "cell_type": "code",
      "metadata": {
        "id": "VfM1NecPR3Je"
      },
      "source": [
        "file = ZipFile(\"/content/data/images.zip\")\n",
        "file.extractall(\"/content/kidney_images\")"
      ],
      "execution_count": null,
      "outputs": []
    },
    {
      "cell_type": "markdown",
      "metadata": {
        "id": "JxzuHbht1MVu"
      },
      "source": [
        "# EDA"
      ]
    },
    {
      "cell_type": "code",
      "metadata": {
        "id": "svrucTAR1boc"
      },
      "source": [
        "import numpy as np\n",
        "import pandas as pd"
      ],
      "execution_count": null,
      "outputs": []
    },
    {
      "cell_type": "code",
      "metadata": {
        "colab": {
          "base_uri": "https://localhost:8080/",
          "height": 204
        },
        "id": "GVcRB6uzR3Jg",
        "outputId": "f399017d-c965-40e3-c1c7-4b698339ab08"
      },
      "source": [
        "train = pd.read_csv(\"/content/data/Train.csv\")\n",
        "train.head()"
      ],
      "execution_count": null,
      "outputs": [
        {
          "output_type": "execute_result",
          "data": {
            "text/html": [
              "<div>\n",
              "<style scoped>\n",
              "    .dataframe tbody tr th:only-of-type {\n",
              "        vertical-align: middle;\n",
              "    }\n",
              "\n",
              "    .dataframe tbody tr th {\n",
              "        vertical-align: top;\n",
              "    }\n",
              "\n",
              "    .dataframe thead th {\n",
              "        text-align: right;\n",
              "    }\n",
              "</style>\n",
              "<table border=\"1\" class=\"dataframe\">\n",
              "  <thead>\n",
              "    <tr style=\"text-align: right;\">\n",
              "      <th></th>\n",
              "      <th>img_IDs</th>\n",
              "      <th>target</th>\n",
              "    </tr>\n",
              "  </thead>\n",
              "  <tbody>\n",
              "    <tr>\n",
              "      <th>0</th>\n",
              "      <td>ID_04UTZ83A24</td>\n",
              "      <td>0</td>\n",
              "    </tr>\n",
              "    <tr>\n",
              "      <th>1</th>\n",
              "      <td>ID_0URH2U2RON</td>\n",
              "      <td>1</td>\n",
              "    </tr>\n",
              "    <tr>\n",
              "      <th>2</th>\n",
              "      <td>ID_0ZEPOZGGQ1</td>\n",
              "      <td>0</td>\n",
              "    </tr>\n",
              "    <tr>\n",
              "      <th>3</th>\n",
              "      <td>ID_1595QTX5OA</td>\n",
              "      <td>1</td>\n",
              "    </tr>\n",
              "    <tr>\n",
              "      <th>4</th>\n",
              "      <td>ID_1RAE4SS5S6</td>\n",
              "      <td>1</td>\n",
              "    </tr>\n",
              "  </tbody>\n",
              "</table>\n",
              "</div>"
            ],
            "text/plain": [
              "         img_IDs  target\n",
              "0  ID_04UTZ83A24       0\n",
              "1  ID_0URH2U2RON       1\n",
              "2  ID_0ZEPOZGGQ1       0\n",
              "3  ID_1595QTX5OA       1\n",
              "4  ID_1RAE4SS5S6       1"
            ]
          },
          "metadata": {
            "tags": []
          },
          "execution_count": 9
        }
      ]
    },
    {
      "cell_type": "code",
      "metadata": {
        "colab": {
          "base_uri": "https://localhost:8080/"
        },
        "id": "cHePSuBqR3Jg",
        "outputId": "4411cb3d-66e6-4488-80e8-e89e6b8c858e"
      },
      "source": [
        "train.target.value_counts()"
      ],
      "execution_count": null,
      "outputs": [
        {
          "output_type": "execute_result",
          "data": {
            "text/plain": [
              "1    64\n",
              "0    36\n",
              "Name: target, dtype: int64"
            ]
          },
          "metadata": {
            "tags": []
          },
          "execution_count": 10
        }
      ]
    },
    {
      "cell_type": "code",
      "metadata": {
        "colab": {
          "base_uri": "https://localhost:8080/",
          "height": 204
        },
        "id": "wko4rdfCR3Jg",
        "outputId": "bf881b0b-b21b-4ef3-b88b-c004e06709ae"
      },
      "source": [
        "test = pd.read_csv(\"/content/data/Test.csv\")\n",
        "test.head()"
      ],
      "execution_count": null,
      "outputs": [
        {
          "output_type": "execute_result",
          "data": {
            "text/html": [
              "<div>\n",
              "<style scoped>\n",
              "    .dataframe tbody tr th:only-of-type {\n",
              "        vertical-align: middle;\n",
              "    }\n",
              "\n",
              "    .dataframe tbody tr th {\n",
              "        vertical-align: top;\n",
              "    }\n",
              "\n",
              "    .dataframe thead th {\n",
              "        text-align: right;\n",
              "    }\n",
              "</style>\n",
              "<table border=\"1\" class=\"dataframe\">\n",
              "  <thead>\n",
              "    <tr style=\"text-align: right;\">\n",
              "      <th></th>\n",
              "      <th>img_IDs</th>\n",
              "    </tr>\n",
              "  </thead>\n",
              "  <tbody>\n",
              "    <tr>\n",
              "      <th>0</th>\n",
              "      <td>ID_07VWE8S4AH</td>\n",
              "    </tr>\n",
              "    <tr>\n",
              "      <th>1</th>\n",
              "      <td>ID_1TTSQF7HN0</td>\n",
              "    </tr>\n",
              "    <tr>\n",
              "      <th>2</th>\n",
              "      <td>ID_21WVBU9ZMU</td>\n",
              "    </tr>\n",
              "    <tr>\n",
              "      <th>3</th>\n",
              "      <td>ID_2MHAFTL1KN</td>\n",
              "    </tr>\n",
              "    <tr>\n",
              "      <th>4</th>\n",
              "      <td>ID_37ULEGW12M</td>\n",
              "    </tr>\n",
              "  </tbody>\n",
              "</table>\n",
              "</div>"
            ],
            "text/plain": [
              "         img_IDs\n",
              "0  ID_07VWE8S4AH\n",
              "1  ID_1TTSQF7HN0\n",
              "2  ID_21WVBU9ZMU\n",
              "3  ID_2MHAFTL1KN\n",
              "4  ID_37ULEGW12M"
            ]
          },
          "metadata": {
            "tags": []
          },
          "execution_count": 11
        }
      ]
    },
    {
      "cell_type": "code",
      "metadata": {
        "colab": {
          "base_uri": "https://localhost:8080/"
        },
        "id": "8SH4Hlv9R3Jh",
        "outputId": "6ceb328c-6bda-4915-a777-a04921872c1e"
      },
      "source": [
        "print(train.shape, test.shape)"
      ],
      "execution_count": null,
      "outputs": [
        {
          "output_type": "stream",
          "text": [
            "(100, 2) (34, 1)\n"
          ],
          "name": "stdout"
        }
      ]
    },
    {
      "cell_type": "code",
      "metadata": {
        "colab": {
          "base_uri": "https://localhost:8080/",
          "height": 204
        },
        "id": "qYEKNYLPR3Jh",
        "outputId": "ee7af6ce-a73a-4e39-c40b-93d681011b44"
      },
      "source": [
        "ss = pd.read_csv(\"/content/data/SampleSubmission.csv\")\n",
        "ss.head()"
      ],
      "execution_count": null,
      "outputs": [
        {
          "output_type": "execute_result",
          "data": {
            "text/html": [
              "<div>\n",
              "<style scoped>\n",
              "    .dataframe tbody tr th:only-of-type {\n",
              "        vertical-align: middle;\n",
              "    }\n",
              "\n",
              "    .dataframe tbody tr th {\n",
              "        vertical-align: top;\n",
              "    }\n",
              "\n",
              "    .dataframe thead th {\n",
              "        text-align: right;\n",
              "    }\n",
              "</style>\n",
              "<table border=\"1\" class=\"dataframe\">\n",
              "  <thead>\n",
              "    <tr style=\"text-align: right;\">\n",
              "      <th></th>\n",
              "      <th>img_IDs</th>\n",
              "      <th>target</th>\n",
              "    </tr>\n",
              "  </thead>\n",
              "  <tbody>\n",
              "    <tr>\n",
              "      <th>0</th>\n",
              "      <td>ID_07VWE8S4AH</td>\n",
              "      <td>NaN</td>\n",
              "    </tr>\n",
              "    <tr>\n",
              "      <th>1</th>\n",
              "      <td>ID_1TTSQF7HN0</td>\n",
              "      <td>NaN</td>\n",
              "    </tr>\n",
              "    <tr>\n",
              "      <th>2</th>\n",
              "      <td>ID_21WVBU9ZMU</td>\n",
              "      <td>NaN</td>\n",
              "    </tr>\n",
              "    <tr>\n",
              "      <th>3</th>\n",
              "      <td>ID_2MHAFTL1KN</td>\n",
              "      <td>NaN</td>\n",
              "    </tr>\n",
              "    <tr>\n",
              "      <th>4</th>\n",
              "      <td>ID_37ULEGW12M</td>\n",
              "      <td>NaN</td>\n",
              "    </tr>\n",
              "  </tbody>\n",
              "</table>\n",
              "</div>"
            ],
            "text/plain": [
              "         img_IDs  target\n",
              "0  ID_07VWE8S4AH     NaN\n",
              "1  ID_1TTSQF7HN0     NaN\n",
              "2  ID_21WVBU9ZMU     NaN\n",
              "3  ID_2MHAFTL1KN     NaN\n",
              "4  ID_37ULEGW12M     NaN"
            ]
          },
          "metadata": {
            "tags": []
          },
          "execution_count": 13
        }
      ]
    },
    {
      "cell_type": "markdown",
      "metadata": {
        "id": "ZYAl3kx817Bn"
      },
      "source": [
        "## Plot of some images\n",
        "\n"
      ]
    },
    {
      "cell_type": "code",
      "metadata": {
        "id": "Ul6gLUD62E3y"
      },
      "source": [
        "import matplotlib.pyplot as plt\n",
        "import cv2"
      ],
      "execution_count": null,
      "outputs": []
    },
    {
      "cell_type": "code",
      "metadata": {
        "colab": {
          "base_uri": "https://localhost:8080/"
        },
        "id": "As8rYQlWR3Ji",
        "outputId": "59058416-1bfc-4f59-ad2e-995a7fdc3708"
      },
      "source": [
        "img_id = train.img_IDs[0]\n",
        "print(img_id)"
      ],
      "execution_count": null,
      "outputs": [
        {
          "output_type": "stream",
          "text": [
            "ID_04UTZ83A24\n"
          ],
          "name": "stdout"
        }
      ]
    },
    {
      "cell_type": "code",
      "metadata": {
        "colab": {
          "base_uri": "https://localhost:8080/",
          "height": 298
        },
        "id": "mUKWPoIJR3Ji",
        "outputId": "48cc02b7-96de-416c-9c0e-e5f267233c9a"
      },
      "source": [
        "image = cv2.imread(\"/content/kidney_images/CAMAIRAI BOX READY/\" + img_id + \".jpg\", 0) \n",
        "print(image.shape)\n",
        "plt.imshow(image, cmap=\"gray\")\n",
        "plt.title(\"Kidney \" + img_id + \" \"+ str(train.target[0]))\n",
        "plt.show()"
      ],
      "execution_count": null,
      "outputs": [
        {
          "output_type": "stream",
          "text": [
            "(815, 1039)\n"
          ],
          "name": "stdout"
        },
        {
          "output_type": "display_data",
          "data": {
            "image/png": "[encoded data removed]",
            "text/plain": [
              "<Figure size 432x288 with 1 Axes>"
            ]
          },
          "metadata": {
            "tags": [],
            "needs_background": "light"
          }
        }
      ]
    },
    {
      "cell_type": "code",
      "metadata": {
        "colab": {
          "base_uri": "https://localhost:8080/",
          "height": 281
        },
        "id": "P3NLHY8MR3Jj",
        "outputId": "8da3a85e-e51f-4055-e778-78d23dd88298"
      },
      "source": [
        "img_id = train.img_IDs[1]\n",
        "image = cv2.imread(\"/content/kidney_images/CAMAIRAI BOX READY/\" + img_id + \".jpg\", 0) \n",
        "plt.imshow(image, cmap=\"gray\")\n",
        "plt.title(\"Kidney \" + img_id + \" \"+ str(train.target[1]))\n",
        "plt.show()"
      ],
      "execution_count": null,
      "outputs": [
        {
          "output_type": "display_data",
          "data": {
            "image/png": "[encoded data removed]",
            "text/plain": [
              "<Figure size 432x288 with 1 Axes>"
            ]
          },
          "metadata": {
            "tags": [],
            "needs_background": "light"
          }
        }
      ]
    },
    {
      "cell_type": "code",
      "metadata": {
        "colab": {
          "base_uri": "https://localhost:8080/",
          "height": 281
        },
        "id": "wTRPeZZGR3Jj",
        "outputId": "e02aa243-fae5-4cd4-c78d-49a8e9a15d0e"
      },
      "source": [
        "img_id = train.img_IDs[2]\n",
        "image = cv2.imread(\"/content/kidney_images/CAMAIRAI BOX READY/\" + img_id + \".jpg\", 0)\n",
        "plt.imshow(image, cmap=\"gray\")\n",
        "plt.title(\"Kidney \" + img_id + \" \"+ str(train.target[2]))\n",
        "plt.show()"
      ],
      "execution_count": null,
      "outputs": [
        {
          "output_type": "display_data",
          "data": {
            "image/png": "[encoded data removed]",
            "text/plain": [
              "<Figure size 432x288 with 1 Axes>"
            ]
          },
          "metadata": {
            "tags": [],
            "needs_background": "light"
          }
        }
      ]
    },
    {
      "cell_type": "markdown",
      "metadata": {
        "id": "Je8wQNL-3mrg"
      },
      "source": [
        "# Splitting and loading data\n"
      ]
    },
    {
      "cell_type": "code",
      "metadata": {
        "id": "li3JtJe38Ewe"
      },
      "source": [
        "import tensorflow as tf\n",
        "from tensorflow.keras.preprocessing.image import ImageDataGenerator\n",
        "from sklearn.utils import shuffle\n",
        "import os, random"
      ],
      "execution_count": null,
      "outputs": []
    },
    {
      "cell_type": "code",
      "metadata": {
        "id": "hnZDTB6d8NhQ"
      },
      "source": [
        "seed_value = 1\n",
        "os.environ['PYTHONHASHSEED']=str(seed_value)\n",
        "\n",
        "random.seed(seed_value)\n",
        "np.random.RandomState(seed_value)\n",
        "tf.random.set_seed(seed_value)"
      ],
      "execution_count": null,
      "outputs": []
    },
    {
      "cell_type": "code",
      "metadata": {
        "id": "BZzfNuqSkxHC"
      },
      "source": [
        "images_dir = '/content/kidney_images/CAMAIRAI BOX READY'\n",
        "train.img_IDs = train.img_IDs + '.jpg'\n",
        "train.target = train.target.astype(str)"
      ],
      "execution_count": null,
      "outputs": []
    },
    {
      "cell_type": "code",
      "metadata": {
        "id": "36YFQWhpgRtI"
      },
      "source": [
        "infected_images = []\n",
        "not_infected_images = []\n",
        "for i in range(train.shape[0]):\n",
        "  if train.loc[i, 'target'] ==  '1':\n",
        "    infected_images.append(train.loc[i, 'img_IDs'])\n",
        "  else: \n",
        "    not_infected_images.append(train.loc[i, 'img_IDs'])"
      ],
      "execution_count": null,
      "outputs": []
    },
    {
      "cell_type": "code",
      "metadata": {
        "id": "VH-KDq-cgxws"
      },
      "source": [
        "train_df = pd.DataFrame(columns=['img_IDs', 'target'])\n",
        "valid_df = pd.DataFrame(columns=['img_IDs', 'target'])\n",
        "\n",
        "def split_data(SPLIT_SIZE, images):\n",
        "  global train_df, valid_df\n",
        "  images_length = len(images)\n",
        "  train_size = int(SPLIT_SIZE*images_length)\n",
        "  for i in range(train_size):\n",
        "      train_df = train_df.append(train[train.img_IDs == images[i]], ignore_index=True)\n",
        "  for i in range(train_size, images_length):\n",
        "      valid_df = valid_df.append(train[train.img_IDs == images[i]], ignore_index=True)"
      ],
      "execution_count": null,
      "outputs": []
    },
    {
      "cell_type": "code",
      "metadata": {
        "id": "jLsRbr-YiJJi"
      },
      "source": [
        "split_size = .9\n",
        "split_data(split_size, infected_images)\n",
        "split_data(split_size, not_infected_images)"
      ],
      "execution_count": null,
      "outputs": []
    },
    {
      "cell_type": "code",
      "metadata": {
        "id": "0DZCUYqptBCS"
      },
      "source": [
        "train_df = shuffle(train_df, random_state=seed_value)\n",
        "valid_df = shuffle(valid_df, random_state=seed_value)"
      ],
      "execution_count": null,
      "outputs": []
    },
    {
      "cell_type": "code",
      "metadata": {
        "colab": {
          "base_uri": "https://localhost:8080/",
          "height": 204
        },
        "id": "y4dxFe3QilSX",
        "outputId": "845d8214-6989-4096-8ea5-faf668d3c8b8"
      },
      "source": [
        "train_df.head()"
      ],
      "execution_count": null,
      "outputs": [
        {
          "output_type": "execute_result",
          "data": {
            "text/html": [
              "<div>\n",
              "<style scoped>\n",
              "    .dataframe tbody tr th:only-of-type {\n",
              "        vertical-align: middle;\n",
              "    }\n",
              "\n",
              "    .dataframe tbody tr th {\n",
              "        vertical-align: top;\n",
              "    }\n",
              "\n",
              "    .dataframe thead th {\n",
              "        text-align: right;\n",
              "    }\n",
              "</style>\n",
              "<table border=\"1\" class=\"dataframe\">\n",
              "  <thead>\n",
              "    <tr style=\"text-align: right;\">\n",
              "      <th></th>\n",
              "      <th>img_IDs</th>\n",
              "      <th>target</th>\n",
              "    </tr>\n",
              "  </thead>\n",
              "  <tbody>\n",
              "    <tr>\n",
              "      <th>60</th>\n",
              "      <td>ID_5U4V0IXVWN.jpg</td>\n",
              "      <td>0</td>\n",
              "    </tr>\n",
              "    <tr>\n",
              "      <th>70</th>\n",
              "      <td>ID_F2DNQ30V9J.jpg</td>\n",
              "      <td>0</td>\n",
              "    </tr>\n",
              "    <tr>\n",
              "      <th>53</th>\n",
              "      <td>ID_VIHKY1YMMS.jpg</td>\n",
              "      <td>1</td>\n",
              "    </tr>\n",
              "    <tr>\n",
              "      <th>54</th>\n",
              "      <td>ID_WMAEWBL4SN.jpg</td>\n",
              "      <td>1</td>\n",
              "    </tr>\n",
              "    <tr>\n",
              "      <th>77</th>\n",
              "      <td>ID_L20KNWNMKG.jpg</td>\n",
              "      <td>0</td>\n",
              "    </tr>\n",
              "  </tbody>\n",
              "</table>\n",
              "</div>"
            ],
            "text/plain": [
              "              img_IDs target\n",
              "60  ID_5U4V0IXVWN.jpg      0\n",
              "70  ID_F2DNQ30V9J.jpg      0\n",
              "53  ID_VIHKY1YMMS.jpg      1\n",
              "54  ID_WMAEWBL4SN.jpg      1\n",
              "77  ID_L20KNWNMKG.jpg      0"
            ]
          },
          "metadata": {
            "tags": []
          },
          "execution_count": 26
        }
      ]
    },
    {
      "cell_type": "code",
      "metadata": {
        "colab": {
          "base_uri": "https://localhost:8080/"
        },
        "id": "qxnnxF9Eb2mq",
        "outputId": "565cdf5d-ca9a-4879-9011-746c12a487c0"
      },
      "source": [
        "\n",
        "train_datagen = ImageDataGenerator(\n",
        "    rescale=1./255,\n",
        "    # width_shift_range=0.2,\n",
        "    # zoom_range=0.2,\n",
        "    # fill_mode='nearest'\n",
        "    )\n",
        "\n",
        "valid_datagen = ImageDataGenerator(rescale=1./255)\n",
        "\n",
        "train_generator = train_datagen.flow_from_dataframe(\n",
        "        train_df,\n",
        "        directory=images_dir, \n",
        "        x_col='img_IDs',\n",
        "        y_col='target',\n",
        "        target_size=(75, 75), \n",
        "        batch_size=30,\n",
        "        class_mode='binary',\n",
        "        seed=seed_value)\n",
        "\n",
        "validation_generator = valid_datagen.flow_from_dataframe(\n",
        "        valid_df,\n",
        "        directory=images_dir,\n",
        "        x_col='img_IDs',\n",
        "        y_col='target',\n",
        "        target_size=(75, 75),\n",
        "        batch_size=5,\n",
        "        class_mode='binary',\n",
        "        seed=seed_value)"
      ],
      "execution_count": null,
      "outputs": [
        {
          "output_type": "stream",
          "text": [
            "Found 89 validated image filenames belonging to 2 classes.\n",
            "Found 11 validated image filenames belonging to 2 classes.\n"
          ],
          "name": "stdout"
        }
      ]
    },
    {
      "cell_type": "code",
      "metadata": {
        "id": "knL2nXSwKorS"
      },
      "source": [
        "test.img_IDs = test.img_IDs + '.jpg'"
      ],
      "execution_count": null,
      "outputs": []
    },
    {
      "cell_type": "code",
      "metadata": {
        "colab": {
          "base_uri": "https://localhost:8080/"
        },
        "id": "TJFARM8dSB3S",
        "outputId": "708a6932-45ff-4fce-b7f4-1f6f6d41cff2"
      },
      "source": [
        "# test data\n",
        "\n",
        "test_datagen = ImageDataGenerator(rescale=1./255)\n",
        "test_generator = test_datagen.flow_from_dataframe(test, \n",
        "                                                  directory=images_dir, \n",
        "                                                  x_col='img_IDs',\n",
        "                                                  y_col=None,\n",
        "                                                  target_size=(75, 75),\n",
        "                                                  batch_size=20,\n",
        "                                                  class_mode=None,\n",
        "                                                  shuffle=False)"
      ],
      "execution_count": null,
      "outputs": [
        {
          "output_type": "stream",
          "text": [
            "Found 34 validated image filenames.\n"
          ],
          "name": "stdout"
        }
      ]
    },
    {
      "cell_type": "markdown",
      "metadata": {
        "id": "ZOUcacaZ_9x8"
      },
      "source": [
        "# Model"
      ]
    },
    {
      "cell_type": "code",
      "metadata": {
        "id": "V8pkhmyqAJt6"
      },
      "source": [
        "# Defining Callback\n",
        "\n",
        "class MyCallback(tf.keras.callbacks.Callback):\n",
        "  def on_epoch_end(self, epoch, logs={}):\n",
        "    if(logs.get('val_accuracy')>0.90 and epoch>100):\n",
        "      print(\"\\nReached validation accuracy > 0.9 so cancelling training!\")\n",
        "      self.model.stop_training = True\n",
        "\n",
        "callbacks = MyCallback()"
      ],
      "execution_count": null,
      "outputs": []
    },
    {
      "cell_type": "code",
      "metadata": {
        "id": "SumwMIqpATxk"
      },
      "source": [
        "from tensorflow.keras.applications import ResNet50, InceptionResNetV2, InceptionV3"
      ],
      "execution_count": null,
      "outputs": []
    },
    {
      "cell_type": "code",
      "metadata": {
        "id": "NRS2SVDMAd_U",
        "colab": {
          "base_uri": "https://localhost:8080/"
        },
        "outputId": "f8ca2ef5-11de-424f-ea1d-442840acd9f5"
      },
      "source": [
        "pre_trained_model = InceptionV3(include_top=False, weights='imagenet',input_shape=(75,75,3))\n",
        "# pre_trained_model = InceptionResNetV2(include_top=False, weights='imagenet',input_shape=(75,75,3))\n",
        "# pre_trained_model = ResNet50(include_top=False, weights='imagenet',input_shape=(75,75,3))"
      ],
      "execution_count": null,
      "outputs": [
        {
          "output_type": "stream",
          "text": [
            "Downloading data from https://storage.googleapis.com/tensorflow/keras-applications/inception_v3/inception_v3_weights_tf_dim_ordering_tf_kernels_notop.h5\n",
            "87916544/87910968 [==============================] - 1s 0us/step\n"
          ],
          "name": "stdout"
        }
      ]
    },
    {
      "cell_type": "code",
      "metadata": {
        "id": "QrhrwZGKA8r8"
      },
      "source": [
        "for layer in pre_trained_model.layers:\n",
        "  layer.trainable = True\n",
        "  \n",
        "# pre_trained_model.summary()\n",
        "\n",
        "# last_layer = pre_trained_model.get_layer('mixed7')\n",
        "# print('last layer output shape: ', last_layer.output_shape)\n",
        "# last_output = last_layer.output\n",
        "\n",
        "\n",
        "last_output = pre_trained_model.output\n",
        "\n",
        "x = tf.keras.layers.Flatten()(last_output)\n",
        "# Add a fully connected layer with 1,024 hidden units and ReLU activation\n",
        "# x = layers.Dense(1024, activation='relu')(x)\n",
        "# Add a dropout rate of 0.2\n",
        "# x = layers.Dropout(0.2, seed=seed_value)(x) \n",
        "\n",
        "x = tf.keras.layers.Dense(64, activation='relu')(x)\n",
        "# Add a dropout rate of 0.2\n",
        "# x = layers.Dropout(0.4, seed=seed_value)(x)   \n",
        "# x = layers.Dense(64, activation='relu')(x)\n",
        "# Add a dropout rate of 0.2\n",
        "# x = layers.Dropout(0.2)(x)              \n",
        "# Add a final sigmoid layer for classification\n",
        "x = tf.keras.layers.Dense(1, activation='sigmoid')(x)           \n",
        "\n",
        "model = tf.keras.Model( pre_trained_model.input, x) "
      ],
      "execution_count": null,
      "outputs": []
    },
    {
      "cell_type": "code",
      "metadata": {
        "colab": {
          "base_uri": "https://localhost:8080/"
        },
        "id": "8ILSWOqMB5-y",
        "outputId": "c85aaf5a-31fa-4b72-b965-806c4ccafb31"
      },
      "source": [
        "model.compile(optimizer = tf.optimizers.Adam(0.001), \n",
        "              loss = 'binary_crossentropy', \n",
        "              metrics = ['accuracy', tf.keras.metrics.AUC(name='auc')])\n",
        "\n",
        "history = model.fit_generator(\n",
        "            generator=train_generator,\n",
        "            validation_data = validation_generator,\n",
        "            # steps_per_epoch = 8,\n",
        "            epochs = 150,\n",
        "            # validation_steps = 2,\n",
        "            callbacks=[callbacks])"
      ],
      "execution_count": null,
      "outputs": [
        {
          "output_type": "stream",
          "text": [
            "Epoch 1/150\n",
            "3/3 [==============================] - 16s 3s/step - loss: 0.6181 - accuracy: 0.6404 - auc: 0.8317 - val_loss: 10.4543 - val_accuracy: 0.6364 - val_auc: 0.4464\n",
            "Epoch 2/150\n",
            "3/3 [==============================] - 7s 2s/step - loss: 0.6968 - accuracy: 0.9551 - auc: 0.9043 - val_loss: 13.7401 - val_accuracy: 0.6364 - val_auc: 0.0714\n",
            "Epoch 3/150\n",
            "3/3 [==============================] - 7s 2s/step - loss: 0.6143 - accuracy: 0.9213 - auc: 0.9282 - val_loss: 68.8830 - val_accuracy: 0.6364 - val_auc: 0.3571\n",
            "Epoch 4/150\n",
            "3/3 [==============================] - 7s 2s/step - loss: 0.1972 - accuracy: 0.9775 - auc: 0.9690 - val_loss: 6.1096 - val_accuracy: 0.4545 - val_auc: 0.6429\n",
            "Epoch 5/150\n",
            "3/3 [==============================] - 7s 2s/step - loss: 0.1462 - accuracy: 0.9438 - auc: 0.9852 - val_loss: 145.0019 - val_accuracy: 0.3636 - val_auc: 0.5000\n",
            "Epoch 6/150\n",
            "3/3 [==============================] - 7s 2s/step - loss: 0.0925 - accuracy: 0.9775 - auc: 0.9910 - val_loss: 8.1966 - val_accuracy: 0.6364 - val_auc: 0.5000\n",
            "Epoch 7/150\n",
            "3/3 [==============================] - 7s 2s/step - loss: 0.1399 - accuracy: 0.9551 - auc: 0.9849 - val_loss: 12.3503 - val_accuracy: 0.6364 - val_auc: 0.5000\n",
            "Epoch 8/150\n",
            "3/3 [==============================] - 7s 2s/step - loss: 0.0948 - accuracy: 0.9663 - auc: 0.9937 - val_loss: 6.2320 - val_accuracy: 0.6364 - val_auc: 0.4286\n",
            "Epoch 9/150\n",
            "3/3 [==============================] - 7s 2s/step - loss: 0.1391 - accuracy: 0.9663 - auc: 0.9814 - val_loss: 14.9165 - val_accuracy: 0.6364 - val_auc: 0.5000\n",
            "Epoch 10/150\n",
            "3/3 [==============================] - 7s 2s/step - loss: 0.1905 - accuracy: 0.9888 - auc: 0.9764 - val_loss: 12.7146 - val_accuracy: 0.6364 - val_auc: 0.5000\n",
            "Epoch 11/150\n",
            "3/3 [==============================] - 7s 2s/step - loss: 0.0510 - accuracy: 0.9888 - auc: 0.9984 - val_loss: 101.8402 - val_accuracy: 0.3636 - val_auc: 0.5000\n",
            "Epoch 12/150\n",
            "3/3 [==============================] - 7s 2s/step - loss: 0.1959 - accuracy: 0.9326 - auc: 0.9718 - val_loss: 87.7585 - val_accuracy: 0.3636 - val_auc: 0.5000\n",
            "Epoch 13/150\n",
            "3/3 [==============================] - 7s 2s/step - loss: 0.1214 - accuracy: 0.9551 - auc: 1.0000 - val_loss: 14.4101 - val_accuracy: 0.6364 - val_auc: 0.5000\n",
            "Epoch 14/150\n",
            "3/3 [==============================] - 7s 2s/step - loss: 0.0894 - accuracy: 0.9663 - auc: 0.9962 - val_loss: 59.1043 - val_accuracy: 0.6364 - val_auc: 0.5000\n",
            "Epoch 15/150\n",
            "3/3 [==============================] - 7s 2s/step - loss: 0.0871 - accuracy: 0.9663 - auc: 1.0000 - val_loss: 100.3010 - val_accuracy: 0.6364 - val_auc: 0.5000\n",
            "Epoch 16/150\n",
            "3/3 [==============================] - 7s 2s/step - loss: 0.0183 - accuracy: 1.0000 - auc: 1.0000 - val_loss: 101.0560 - val_accuracy: 0.6364 - val_auc: 0.5000\n",
            "Epoch 17/150\n",
            "3/3 [==============================] - 7s 2s/step - loss: 0.0287 - accuracy: 1.0000 - auc: 1.0000 - val_loss: 85.0260 - val_accuracy: 0.6364 - val_auc: 0.5000\n",
            "Epoch 18/150\n",
            "3/3 [==============================] - 7s 2s/step - loss: 0.0132 - accuracy: 1.0000 - auc: 1.0000 - val_loss: 90.0436 - val_accuracy: 0.6364 - val_auc: 0.5000\n",
            "Epoch 19/150\n",
            "3/3 [==============================] - 7s 2s/step - loss: 0.0045 - accuracy: 1.0000 - auc: 1.0000 - val_loss: 81.0270 - val_accuracy: 0.6364 - val_auc: 0.5000\n",
            "Epoch 20/150\n",
            "3/3 [==============================] - 7s 2s/step - loss: 0.0052 - accuracy: 1.0000 - auc: 1.0000 - val_loss: 74.9224 - val_accuracy: 0.6364 - val_auc: 0.5000\n",
            "Epoch 21/150\n",
            "3/3 [==============================] - 7s 2s/step - loss: 0.0013 - accuracy: 1.0000 - auc: 1.0000 - val_loss: 69.0503 - val_accuracy: 0.6364 - val_auc: 0.5000\n",
            "Epoch 22/150\n",
            "3/3 [==============================] - 7s 2s/step - loss: 0.1021 - accuracy: 0.9775 - auc: 0.9836 - val_loss: 45.8424 - val_accuracy: 0.6364 - val_auc: 0.5000\n",
            "Epoch 23/150\n",
            "3/3 [==============================] - 7s 2s/step - loss: 0.1794 - accuracy: 0.9438 - auc: 0.9973 - val_loss: 44.9641 - val_accuracy: 0.6364 - val_auc: 0.5000\n",
            "Epoch 24/150\n",
            "3/3 [==============================] - 7s 2s/step - loss: 0.0531 - accuracy: 0.9775 - auc: 0.9995 - val_loss: 32.1316 - val_accuracy: 0.7273 - val_auc: 0.8750\n",
            "Epoch 25/150\n",
            "3/3 [==============================] - 7s 2s/step - loss: 0.1282 - accuracy: 0.9775 - auc: 0.9882 - val_loss: 20.6474 - val_accuracy: 0.9091 - val_auc: 0.8571\n",
            "Epoch 26/150\n",
            "3/3 [==============================] - 7s 2s/step - loss: 0.0325 - accuracy: 1.0000 - auc: 1.0000 - val_loss: 9.7987 - val_accuracy: 0.9091 - val_auc: 0.8393\n",
            "Epoch 27/150\n",
            "3/3 [==============================] - 7s 2s/step - loss: 0.0083 - accuracy: 1.0000 - auc: 1.0000 - val_loss: 2.2032 - val_accuracy: 0.7273 - val_auc: 0.8214\n",
            "Epoch 28/150\n",
            "3/3 [==============================] - 7s 2s/step - loss: 0.0114 - accuracy: 1.0000 - auc: 1.0000 - val_loss: 0.7161 - val_accuracy: 0.8182 - val_auc: 0.9286\n",
            "Epoch 29/150\n",
            "3/3 [==============================] - 7s 2s/step - loss: 0.1062 - accuracy: 0.9551 - auc: 0.9921 - val_loss: 0.9137 - val_accuracy: 0.8182 - val_auc: 0.8571\n",
            "Epoch 30/150\n",
            "3/3 [==============================] - 7s 2s/step - loss: 0.0159 - accuracy: 1.0000 - auc: 1.0000 - val_loss: 1.1532 - val_accuracy: 0.8182 - val_auc: 0.8214\n",
            "Epoch 31/150\n",
            "3/3 [==============================] - 7s 2s/step - loss: 0.0299 - accuracy: 0.9888 - auc: 1.0000 - val_loss: 1.0528 - val_accuracy: 0.8182 - val_auc: 0.9286\n",
            "Epoch 32/150\n",
            "3/3 [==============================] - 7s 2s/step - loss: 0.0289 - accuracy: 0.9888 - auc: 0.9997 - val_loss: 1.0056 - val_accuracy: 0.8182 - val_auc: 0.9286\n",
            "Epoch 33/150\n",
            "3/3 [==============================] - 7s 2s/step - loss: 0.0995 - accuracy: 0.9775 - auc: 0.9973 - val_loss: 1.3698 - val_accuracy: 0.8182 - val_auc: 0.8214\n",
            "Epoch 34/150\n",
            "3/3 [==============================] - 7s 2s/step - loss: 0.0102 - accuracy: 1.0000 - auc: 1.0000 - val_loss: 1.6453 - val_accuracy: 0.8182 - val_auc: 0.8214\n",
            "Epoch 35/150\n",
            "3/3 [==============================] - 7s 2s/step - loss: 0.1285 - accuracy: 0.9438 - auc: 0.9934 - val_loss: 1.3259 - val_accuracy: 0.7273 - val_auc: 0.8750\n",
            "Epoch 36/150\n",
            "3/3 [==============================] - 7s 2s/step - loss: 0.0107 - accuracy: 1.0000 - auc: 1.0000 - val_loss: 0.7370 - val_accuracy: 0.8182 - val_auc: 0.8571\n",
            "Epoch 37/150\n",
            "3/3 [==============================] - 7s 2s/step - loss: 0.1920 - accuracy: 0.9551 - auc: 0.9756 - val_loss: 0.7516 - val_accuracy: 0.8182 - val_auc: 0.8750\n",
            "Epoch 38/150\n",
            "3/3 [==============================] - 7s 2s/step - loss: 0.0703 - accuracy: 0.9775 - auc: 0.9956 - val_loss: 1.0524 - val_accuracy: 0.9091 - val_auc: 0.8929\n",
            "Epoch 39/150\n",
            "3/3 [==============================] - 7s 2s/step - loss: 0.0212 - accuracy: 1.0000 - auc: 1.0000 - val_loss: 1.5112 - val_accuracy: 0.8182 - val_auc: 0.9107\n",
            "Epoch 40/150\n",
            "3/3 [==============================] - 7s 2s/step - loss: 0.0116 - accuracy: 1.0000 - auc: 1.0000 - val_loss: 1.7806 - val_accuracy: 0.8182 - val_auc: 0.8929\n",
            "Epoch 41/150\n",
            "3/3 [==============================] - 7s 2s/step - loss: 0.0088 - accuracy: 1.0000 - auc: 1.0000 - val_loss: 1.9469 - val_accuracy: 0.8182 - val_auc: 0.8214\n",
            "Epoch 42/150\n",
            "3/3 [==============================] - 7s 2s/step - loss: 0.0038 - accuracy: 1.0000 - auc: 1.0000 - val_loss: 1.9958 - val_accuracy: 0.8182 - val_auc: 0.8214\n",
            "Epoch 43/150\n",
            "3/3 [==============================] - 7s 2s/step - loss: 0.0036 - accuracy: 1.0000 - auc: 1.0000 - val_loss: 1.9792 - val_accuracy: 0.8182 - val_auc: 0.8571\n",
            "Epoch 44/150\n",
            "3/3 [==============================] - 7s 2s/step - loss: 0.0021 - accuracy: 1.0000 - auc: 1.0000 - val_loss: 1.8949 - val_accuracy: 0.8182 - val_auc: 0.8571\n",
            "Epoch 45/150\n",
            "3/3 [==============================] - 7s 2s/step - loss: 0.0010 - accuracy: 1.0000 - auc: 1.0000 - val_loss: 1.7861 - val_accuracy: 0.8182 - val_auc: 0.8214\n",
            "Epoch 46/150\n",
            "3/3 [==============================] - 7s 2s/step - loss: 8.5918e-04 - accuracy: 1.0000 - auc: 1.0000 - val_loss: 1.6818 - val_accuracy: 0.8182 - val_auc: 0.8214\n",
            "Epoch 47/150\n",
            "3/3 [==============================] - 7s 2s/step - loss: 3.4053e-04 - accuracy: 1.0000 - auc: 1.0000 - val_loss: 1.5901 - val_accuracy: 0.8182 - val_auc: 0.8214\n",
            "Epoch 48/150\n",
            "3/3 [==============================] - 7s 2s/step - loss: 3.2483e-04 - accuracy: 1.0000 - auc: 1.0000 - val_loss: 1.5219 - val_accuracy: 0.8182 - val_auc: 0.8214\n",
            "Epoch 49/150\n",
            "3/3 [==============================] - 7s 2s/step - loss: 0.0386 - accuracy: 0.9888 - auc: 1.0000 - val_loss: 1.4150 - val_accuracy: 0.8182 - val_auc: 0.7857\n",
            "Epoch 50/150\n",
            "3/3 [==============================] - 7s 2s/step - loss: 0.0144 - accuracy: 0.9888 - auc: 1.0000 - val_loss: 2.0666 - val_accuracy: 0.7273 - val_auc: 0.7143\n",
            "Epoch 51/150\n",
            "3/3 [==============================] - 7s 2s/step - loss: 0.0874 - accuracy: 0.9775 - auc: 0.9984 - val_loss: 1.6149 - val_accuracy: 0.5455 - val_auc: 0.6964\n",
            "Epoch 52/150\n",
            "3/3 [==============================] - 7s 2s/step - loss: 0.0109 - accuracy: 1.0000 - auc: 1.0000 - val_loss: 1.1625 - val_accuracy: 0.6364 - val_auc: 0.8036\n",
            "Epoch 53/150\n",
            "3/3 [==============================] - 7s 2s/step - loss: 0.1070 - accuracy: 0.9663 - auc: 0.9989 - val_loss: 1.4329 - val_accuracy: 0.6364 - val_auc: 0.8214\n",
            "Epoch 54/150\n",
            "3/3 [==============================] - 7s 2s/step - loss: 0.0115 - accuracy: 1.0000 - auc: 1.0000 - val_loss: 1.9987 - val_accuracy: 0.6364 - val_auc: 0.8214\n",
            "Epoch 55/150\n",
            "3/3 [==============================] - 7s 2s/step - loss: 0.0127 - accuracy: 1.0000 - auc: 1.0000 - val_loss: 1.9125 - val_accuracy: 0.6364 - val_auc: 0.8036\n",
            "Epoch 56/150\n",
            "3/3 [==============================] - 7s 2s/step - loss: 0.0148 - accuracy: 1.0000 - auc: 1.0000 - val_loss: 1.6422 - val_accuracy: 0.6364 - val_auc: 0.7857\n",
            "Epoch 57/150\n",
            "3/3 [==============================] - 7s 2s/step - loss: 0.0039 - accuracy: 1.0000 - auc: 1.0000 - val_loss: 1.3242 - val_accuracy: 0.7273 - val_auc: 0.6607\n",
            "Epoch 58/150\n",
            "3/3 [==============================] - 7s 2s/step - loss: 0.0041 - accuracy: 1.0000 - auc: 1.0000 - val_loss: 1.2883 - val_accuracy: 0.6364 - val_auc: 0.6786\n",
            "Epoch 59/150\n",
            "3/3 [==============================] - 7s 2s/step - loss: 0.0037 - accuracy: 1.0000 - auc: 1.0000 - val_loss: 1.5059 - val_accuracy: 0.6364 - val_auc: 0.6071\n",
            "Epoch 60/150\n",
            "3/3 [==============================] - 7s 2s/step - loss: 0.0018 - accuracy: 1.0000 - auc: 1.0000 - val_loss: 1.6760 - val_accuracy: 0.6364 - val_auc: 0.5714\n",
            "Epoch 61/150\n",
            "3/3 [==============================] - 7s 2s/step - loss: 8.9554e-04 - accuracy: 1.0000 - auc: 1.0000 - val_loss: 1.7261 - val_accuracy: 0.6364 - val_auc: 0.5714\n",
            "Epoch 62/150\n",
            "3/3 [==============================] - 7s 2s/step - loss: 0.0014 - accuracy: 1.0000 - auc: 1.0000 - val_loss: 1.5975 - val_accuracy: 0.6364 - val_auc: 0.6071\n",
            "Epoch 63/150\n",
            "3/3 [==============================] - 7s 2s/step - loss: 0.0014 - accuracy: 1.0000 - auc: 1.0000 - val_loss: 1.4118 - val_accuracy: 0.6364 - val_auc: 0.7500\n",
            "Epoch 64/150\n",
            "3/3 [==============================] - 7s 2s/step - loss: 8.1365e-04 - accuracy: 1.0000 - auc: 1.0000 - val_loss: 1.3381 - val_accuracy: 0.6364 - val_auc: 0.7500\n",
            "Epoch 65/150\n",
            "3/3 [==============================] - 7s 2s/step - loss: 1.9972e-04 - accuracy: 1.0000 - auc: 1.0000 - val_loss: 1.4984 - val_accuracy: 0.6364 - val_auc: 0.7143\n",
            "Epoch 66/150\n",
            "3/3 [==============================] - 7s 2s/step - loss: 2.5313e-04 - accuracy: 1.0000 - auc: 1.0000 - val_loss: 1.6076 - val_accuracy: 0.6364 - val_auc: 0.6964\n",
            "Epoch 67/150\n",
            "3/3 [==============================] - 7s 2s/step - loss: 4.4064e-04 - accuracy: 1.0000 - auc: 1.0000 - val_loss: 1.6241 - val_accuracy: 0.6364 - val_auc: 0.6964\n",
            "Epoch 68/150\n",
            "3/3 [==============================] - 7s 2s/step - loss: 2.1515e-04 - accuracy: 1.0000 - auc: 1.0000 - val_loss: 1.6292 - val_accuracy: 0.6364 - val_auc: 0.6786\n",
            "Epoch 69/150\n",
            "3/3 [==============================] - 7s 2s/step - loss: 1.6277e-04 - accuracy: 1.0000 - auc: 1.0000 - val_loss: 1.6474 - val_accuracy: 0.6364 - val_auc: 0.6786\n",
            "Epoch 70/150\n",
            "3/3 [==============================] - 7s 2s/step - loss: 3.1374e-04 - accuracy: 1.0000 - auc: 1.0000 - val_loss: 1.6623 - val_accuracy: 0.6364 - val_auc: 0.6607\n",
            "Epoch 71/150\n",
            "3/3 [==============================] - 7s 2s/step - loss: 2.1067e-04 - accuracy: 1.0000 - auc: 1.0000 - val_loss: 1.6653 - val_accuracy: 0.6364 - val_auc: 0.6786\n",
            "Epoch 72/150\n",
            "3/3 [==============================] - 7s 2s/step - loss: 3.9296e-04 - accuracy: 1.0000 - auc: 1.0000 - val_loss: 1.6636 - val_accuracy: 0.7273 - val_auc: 0.6786\n",
            "Epoch 73/150\n",
            "3/3 [==============================] - 7s 2s/step - loss: 1.0230e-04 - accuracy: 1.0000 - auc: 1.0000 - val_loss: 1.6679 - val_accuracy: 0.7273 - val_auc: 0.6429\n",
            "Epoch 74/150\n",
            "3/3 [==============================] - 7s 2s/step - loss: 2.1047e-04 - accuracy: 1.0000 - auc: 1.0000 - val_loss: 1.6790 - val_accuracy: 0.7273 - val_auc: 0.6250\n",
            "Epoch 75/150\n",
            "3/3 [==============================] - 7s 2s/step - loss: 3.9734e-05 - accuracy: 1.0000 - auc: 1.0000 - val_loss: 1.7006 - val_accuracy: 0.7273 - val_auc: 0.6250\n",
            "Epoch 76/150\n",
            "3/3 [==============================] - 7s 2s/step - loss: 9.6317e-05 - accuracy: 1.0000 - auc: 1.0000 - val_loss: 1.6949 - val_accuracy: 0.7273 - val_auc: 0.6250\n",
            "Epoch 77/150\n",
            "3/3 [==============================] - 7s 2s/step - loss: 1.0996e-04 - accuracy: 1.0000 - auc: 1.0000 - val_loss: 1.6975 - val_accuracy: 0.7273 - val_auc: 0.6607\n",
            "Epoch 78/150\n",
            "3/3 [==============================] - 7s 2s/step - loss: 3.1547e-05 - accuracy: 1.0000 - auc: 1.0000 - val_loss: 1.7074 - val_accuracy: 0.7273 - val_auc: 0.6964\n",
            "Epoch 79/150\n",
            "3/3 [==============================] - 7s 2s/step - loss: 5.1041e-05 - accuracy: 1.0000 - auc: 1.0000 - val_loss: 1.7180 - val_accuracy: 0.7273 - val_auc: 0.7143\n",
            "Epoch 80/150\n",
            "3/3 [==============================] - 7s 2s/step - loss: 1.0116e-04 - accuracy: 1.0000 - auc: 1.0000 - val_loss: 1.7229 - val_accuracy: 0.7273 - val_auc: 0.7143\n",
            "Epoch 81/150\n",
            "3/3 [==============================] - 7s 2s/step - loss: 7.9125e-05 - accuracy: 1.0000 - auc: 1.0000 - val_loss: 1.7326 - val_accuracy: 0.7273 - val_auc: 0.7143\n",
            "Epoch 82/150\n",
            "3/3 [==============================] - 7s 2s/step - loss: 6.3427e-05 - accuracy: 1.0000 - auc: 1.0000 - val_loss: 1.7439 - val_accuracy: 0.7273 - val_auc: 0.7143\n",
            "Epoch 83/150\n",
            "3/3 [==============================] - 7s 2s/step - loss: 8.0815e-05 - accuracy: 1.0000 - auc: 1.0000 - val_loss: 1.7473 - val_accuracy: 0.7273 - val_auc: 0.7143\n",
            "Epoch 84/150\n",
            "3/3 [==============================] - 7s 2s/step - loss: 9.1871e-05 - accuracy: 1.0000 - auc: 1.0000 - val_loss: 1.7490 - val_accuracy: 0.7273 - val_auc: 0.7143\n",
            "Epoch 85/150\n",
            "3/3 [==============================] - 7s 2s/step - loss: 4.2616e-05 - accuracy: 1.0000 - auc: 1.0000 - val_loss: 1.7517 - val_accuracy: 0.7273 - val_auc: 0.7143\n",
            "Epoch 86/150\n",
            "3/3 [==============================] - 7s 2s/step - loss: 3.1405e-05 - accuracy: 1.0000 - auc: 1.0000 - val_loss: 1.7574 - val_accuracy: 0.7273 - val_auc: 0.7143\n",
            "Epoch 87/150\n",
            "3/3 [==============================] - 7s 2s/step - loss: 2.7374e-05 - accuracy: 1.0000 - auc: 1.0000 - val_loss: 1.7701 - val_accuracy: 0.7273 - val_auc: 0.7143\n",
            "Epoch 88/150\n",
            "3/3 [==============================] - 7s 2s/step - loss: 8.6084e-05 - accuracy: 1.0000 - auc: 1.0000 - val_loss: 1.7772 - val_accuracy: 0.7273 - val_auc: 0.7143\n",
            "Epoch 89/150\n",
            "3/3 [==============================] - 7s 2s/step - loss: 4.4881e-05 - accuracy: 1.0000 - auc: 1.0000 - val_loss: 1.7865 - val_accuracy: 0.7273 - val_auc: 0.7143\n",
            "Epoch 90/150\n",
            "3/3 [==============================] - 7s 2s/step - loss: 5.4829e-05 - accuracy: 1.0000 - auc: 1.0000 - val_loss: 1.7946 - val_accuracy: 0.7273 - val_auc: 0.7143\n",
            "Epoch 91/150\n",
            "3/3 [==============================] - 7s 2s/step - loss: 5.2752e-05 - accuracy: 1.0000 - auc: 1.0000 - val_loss: 1.8066 - val_accuracy: 0.7273 - val_auc: 0.7143\n",
            "Epoch 92/150\n",
            "3/3 [==============================] - 7s 2s/step - loss: 1.2373e-04 - accuracy: 1.0000 - auc: 1.0000 - val_loss: 1.8142 - val_accuracy: 0.7273 - val_auc: 0.7143\n",
            "Epoch 93/150\n",
            "3/3 [==============================] - 7s 2s/step - loss: 5.0561e-05 - accuracy: 1.0000 - auc: 1.0000 - val_loss: 1.8193 - val_accuracy: 0.7273 - val_auc: 0.7143\n",
            "Epoch 94/150\n",
            "3/3 [==============================] - 7s 2s/step - loss: 7.4207e-05 - accuracy: 1.0000 - auc: 1.0000 - val_loss: 1.8223 - val_accuracy: 0.7273 - val_auc: 0.7143\n",
            "Epoch 95/150\n",
            "3/3 [==============================] - 7s 2s/step - loss: 5.5315e-05 - accuracy: 1.0000 - auc: 1.0000 - val_loss: 1.8329 - val_accuracy: 0.7273 - val_auc: 0.7143\n",
            "Epoch 96/150\n",
            "3/3 [==============================] - 7s 2s/step - loss: 1.5828e-05 - accuracy: 1.0000 - auc: 1.0000 - val_loss: 1.8470 - val_accuracy: 0.7273 - val_auc: 0.7143\n",
            "Epoch 97/150\n",
            "3/3 [==============================] - 7s 2s/step - loss: 2.4328e-05 - accuracy: 1.0000 - auc: 1.0000 - val_loss: 1.8590 - val_accuracy: 0.7273 - val_auc: 0.7143\n",
            "Epoch 98/150\n",
            "3/3 [==============================] - 7s 2s/step - loss: 8.4792e-05 - accuracy: 1.0000 - auc: 1.0000 - val_loss: 1.8646 - val_accuracy: 0.7273 - val_auc: 0.7143\n",
            "Epoch 99/150\n",
            "3/3 [==============================] - 7s 2s/step - loss: 2.3523e-05 - accuracy: 1.0000 - auc: 1.0000 - val_loss: 1.8748 - val_accuracy: 0.7273 - val_auc: 0.7143\n",
            "Epoch 100/150\n",
            "3/3 [==============================] - 7s 2s/step - loss: 8.7426e-05 - accuracy: 1.0000 - auc: 1.0000 - val_loss: 1.8804 - val_accuracy: 0.6364 - val_auc: 0.7143\n",
            "Epoch 101/150\n",
            "3/3 [==============================] - 7s 2s/step - loss: 3.5114e-05 - accuracy: 1.0000 - auc: 1.0000 - val_loss: 1.8850 - val_accuracy: 0.6364 - val_auc: 0.7143\n",
            "Epoch 102/150\n",
            "3/3 [==============================] - 7s 2s/step - loss: 3.2233e-05 - accuracy: 1.0000 - auc: 1.0000 - val_loss: 1.8922 - val_accuracy: 0.6364 - val_auc: 0.7143\n",
            "Epoch 103/150\n",
            "3/3 [==============================] - 7s 2s/step - loss: 1.3353e-05 - accuracy: 1.0000 - auc: 1.0000 - val_loss: 1.9016 - val_accuracy: 0.6364 - val_auc: 0.7143\n",
            "Epoch 104/150\n",
            "3/3 [==============================] - 7s 2s/step - loss: 1.5930e-05 - accuracy: 1.0000 - auc: 1.0000 - val_loss: 1.9076 - val_accuracy: 0.6364 - val_auc: 0.7143\n",
            "Epoch 105/150\n",
            "3/3 [==============================] - 7s 2s/step - loss: 2.2051e-05 - accuracy: 1.0000 - auc: 1.0000 - val_loss: 1.9163 - val_accuracy: 0.6364 - val_auc: 0.7321\n",
            "Epoch 106/150\n",
            "3/3 [==============================] - 7s 2s/step - loss: 1.1259e-05 - accuracy: 1.0000 - auc: 1.0000 - val_loss: 1.9298 - val_accuracy: 0.6364 - val_auc: 0.7321\n",
            "Epoch 107/150\n",
            "3/3 [==============================] - 7s 2s/step - loss: 5.4167e-05 - accuracy: 1.0000 - auc: 1.0000 - val_loss: 1.9383 - val_accuracy: 0.6364 - val_auc: 0.7500\n",
            "Epoch 108/150\n",
            "3/3 [==============================] - 7s 2s/step - loss: 0.0023 - accuracy: 1.0000 - auc: 1.0000 - val_loss: 2.0323 - val_accuracy: 0.6364 - val_auc: 0.7143\n",
            "Epoch 109/150\n",
            "3/3 [==============================] - 7s 2s/step - loss: 1.5302e-04 - accuracy: 1.0000 - auc: 1.0000 - val_loss: 2.4112 - val_accuracy: 0.6364 - val_auc: 0.6964\n",
            "Epoch 110/150\n",
            "3/3 [==============================] - 7s 2s/step - loss: 6.1558e-05 - accuracy: 1.0000 - auc: 1.0000 - val_loss: 2.6615 - val_accuracy: 0.6364 - val_auc: 0.6607\n",
            "Epoch 111/150\n",
            "3/3 [==============================] - 7s 2s/step - loss: 7.9053e-05 - accuracy: 1.0000 - auc: 1.0000 - val_loss: 2.7505 - val_accuracy: 0.6364 - val_auc: 0.6964\n",
            "Epoch 112/150\n",
            "3/3 [==============================] - 7s 2s/step - loss: 3.0879e-04 - accuracy: 1.0000 - auc: 1.0000 - val_loss: 2.7631 - val_accuracy: 0.6364 - val_auc: 0.6786\n",
            "Epoch 113/150\n",
            "3/3 [==============================] - 7s 2s/step - loss: 0.0013 - accuracy: 1.0000 - auc: 1.0000 - val_loss: 2.6783 - val_accuracy: 0.6364 - val_auc: 0.6786\n",
            "Epoch 114/150\n",
            "3/3 [==============================] - 7s 2s/step - loss: 1.4162e-04 - accuracy: 1.0000 - auc: 1.0000 - val_loss: 2.5744 - val_accuracy: 0.6364 - val_auc: 0.6786\n",
            "Epoch 115/150\n",
            "3/3 [==============================] - 7s 2s/step - loss: 0.0597 - accuracy: 0.9888 - auc: 0.9844 - val_loss: 2.2931 - val_accuracy: 0.7273 - val_auc: 0.6964\n",
            "Epoch 116/150\n",
            "3/3 [==============================] - 7s 2s/step - loss: 3.4194e-04 - accuracy: 1.0000 - auc: 1.0000 - val_loss: 2.2663 - val_accuracy: 0.7273 - val_auc: 0.7143\n",
            "Epoch 117/150\n",
            "3/3 [==============================] - 7s 2s/step - loss: 8.9790e-04 - accuracy: 1.0000 - auc: 1.0000 - val_loss: 2.2639 - val_accuracy: 0.7273 - val_auc: 0.7143\n",
            "Epoch 118/150\n",
            "3/3 [==============================] - 7s 2s/step - loss: 0.0018 - accuracy: 1.0000 - auc: 1.0000 - val_loss: 2.3147 - val_accuracy: 0.6364 - val_auc: 0.7143\n",
            "Epoch 119/150\n",
            "3/3 [==============================] - 7s 2s/step - loss: 0.0065 - accuracy: 1.0000 - auc: 1.0000 - val_loss: 2.5301 - val_accuracy: 0.6364 - val_auc: 0.7143\n",
            "Epoch 120/150\n",
            "3/3 [==============================] - 7s 2s/step - loss: 0.0197 - accuracy: 0.9888 - auc: 1.0000 - val_loss: 1.2840 - val_accuracy: 0.8182 - val_auc: 0.7321\n",
            "Epoch 121/150\n",
            "3/3 [==============================] - 7s 2s/step - loss: 0.0830 - accuracy: 0.9888 - auc: 0.9904 - val_loss: 1.4939 - val_accuracy: 0.6364 - val_auc: 0.7321\n",
            "Epoch 122/150\n",
            "3/3 [==============================] - 7s 2s/step - loss: 0.0186 - accuracy: 0.9888 - auc: 1.0000 - val_loss: 0.9339 - val_accuracy: 0.7273 - val_auc: 0.7679\n",
            "Epoch 123/150\n",
            "3/3 [==============================] - 7s 2s/step - loss: 0.0222 - accuracy: 1.0000 - auc: 1.0000 - val_loss: 0.9331 - val_accuracy: 0.6364 - val_auc: 0.7500\n",
            "Epoch 124/150\n",
            "3/3 [==============================] - 7s 2s/step - loss: 0.0570 - accuracy: 0.9888 - auc: 0.9978 - val_loss: 0.9797 - val_accuracy: 0.6364 - val_auc: 0.7500\n",
            "Epoch 125/150\n",
            "3/3 [==============================] - 7s 2s/step - loss: 0.0087 - accuracy: 1.0000 - auc: 1.0000 - val_loss: 1.0640 - val_accuracy: 0.6364 - val_auc: 0.7143\n",
            "Epoch 126/150\n",
            "3/3 [==============================] - 7s 2s/step - loss: 0.0299 - accuracy: 0.9775 - auc: 1.0000 - val_loss: 0.5968 - val_accuracy: 0.7273 - val_auc: 0.8571\n",
            "Epoch 127/150\n",
            "3/3 [==============================] - 7s 2s/step - loss: 0.1524 - accuracy: 0.9326 - auc: 0.9967 - val_loss: 1.3041 - val_accuracy: 0.6364 - val_auc: 0.7143\n",
            "Epoch 128/150\n",
            "3/3 [==============================] - 7s 2s/step - loss: 0.1617 - accuracy: 0.9101 - auc: 1.0000 - val_loss: 1.5760 - val_accuracy: 0.6364 - val_auc: 0.5893\n",
            "Epoch 129/150\n",
            "3/3 [==============================] - 7s 2s/step - loss: 0.0732 - accuracy: 0.9663 - auc: 1.0000 - val_loss: 1.0877 - val_accuracy: 0.6364 - val_auc: 0.8571\n",
            "Epoch 130/150\n",
            "3/3 [==============================] - 7s 2s/step - loss: 0.2229 - accuracy: 0.9326 - auc: 0.9619 - val_loss: 0.5609 - val_accuracy: 0.7273 - val_auc: 0.8929\n",
            "Epoch 131/150\n",
            "3/3 [==============================] - 7s 2s/step - loss: 0.0895 - accuracy: 0.9663 - auc: 0.9901 - val_loss: 0.4200 - val_accuracy: 0.9091 - val_auc: 1.0000\n",
            "\n",
            "Reached validation accuracy > 0.9 so cancelling training!\n"
          ],
          "name": "stdout"
        }
      ]
    },
    {
      "cell_type": "markdown",
      "metadata": {
        "id": "U5TX7U0ADR6b"
      },
      "source": [
        "# Training plot"
      ]
    },
    {
      "cell_type": "code",
      "metadata": {
        "colab": {
          "base_uri": "https://localhost:8080/",
          "height": 545
        },
        "id": "FGi4HOg0TRQ3",
        "outputId": "fc20e44f-c65e-4932-a8c3-105be5e36a21"
      },
      "source": [
        "acc = history.history['accuracy']\n",
        "val_acc = history.history['val_accuracy']\n",
        "loss = history.history['loss']\n",
        "val_loss = history.history['val_loss']\n",
        "\n",
        "epochs = range(len(acc))\n",
        "\n",
        "plt.plot(epochs, acc, 'bo', label='Training accuracy')\n",
        "plt.plot(epochs, val_acc, 'b', label='Validation accuracy')\n",
        "plt.title('Training and validation accuracy')\n",
        "\n",
        "plt.figure()\n",
        "\n",
        "plt.plot(epochs, loss, 'bo', label='Training Loss')\n",
        "plt.plot(epochs, val_loss, 'b', label='Validation Loss')\n",
        "plt.title('Training and validation loss')\n",
        "plt.legend()\n",
        "\n",
        "plt.show()"
      ],
      "execution_count": null,
      "outputs": [
        {
          "output_type": "display_data",
          "data": {
            "image/png": "[encoded data removed]",
            "text/plain": [
              "<Figure size 432x288 with 1 Axes>"
            ]
          },
          "metadata": {
            "tags": [],
            "needs_background": "light"
          }
        },
        {
          "output_type": "display_data",
          "data": {
            "image/png": "[encoded data removed]",
            "text/plain": [
              "<Figure size 432x288 with 1 Axes>"
            ]
          },
          "metadata": {
            "tags": [],
            "needs_background": "light"
          }
        }
      ]
    },
    {
      "cell_type": "markdown",
      "metadata": {
        "id": "AKrxLGTIDhYT"
      },
      "source": [
        "# Evaluating model"
      ]
    },
    {
      "cell_type": "code",
      "metadata": {
        "colab": {
          "base_uri": "https://localhost:8080/"
        },
        "id": "U1F0PB3vfTmj",
        "outputId": "c92d4993-f1c7-4690-d785-9fabb79cf14b"
      },
      "source": [
        "model.evaluate_generator(generator=validation_generator)"
      ],
      "execution_count": null,
      "outputs": [
        {
          "output_type": "execute_result",
          "data": {
            "text/plain": [
              "[0.4200119078159332, 0.9090909361839294, 1.0]"
            ]
          },
          "metadata": {
            "tags": []
          },
          "execution_count": 61
        }
      ]
    },
    {
      "cell_type": "code",
      "metadata": {
        "colab": {
          "base_uri": "https://localhost:8080/"
        },
        "id": "hSIDcAWfN8BL",
        "outputId": "0332d607-30ad-417c-a74d-753f30779f93"
      },
      "source": [
        "valid_preds = model.predict(validation_generator)\n",
        "valid_preds"
      ],
      "execution_count": null,
      "outputs": [
        {
          "output_type": "execute_result",
          "data": {
            "text/plain": [
              "array([[0.7917909 ],\n",
              "       [0.5580231 ],\n",
              "       [0.9965247 ],\n",
              "       [0.00252301],\n",
              "       [0.0535996 ],\n",
              "       [0.6775441 ],\n",
              "       [0.01773858],\n",
              "       [0.9819387 ],\n",
              "       [0.6785109 ],\n",
              "       [0.00705084],\n",
              "       [0.0494948 ]], dtype=float32)"
            ]
          },
          "metadata": {
            "tags": []
          },
          "execution_count": 62
        }
      ]
    },
    {
      "cell_type": "markdown",
      "metadata": {
        "id": "6OvL_QlmluWa"
      },
      "source": [
        "# Predictions on Test set\n"
      ]
    },
    {
      "cell_type": "code",
      "metadata": {
        "id": "l-aS2sQTlzee"
      },
      "source": [
        "ss.target = model.predict(test_generator)"
      ],
      "execution_count": null,
      "outputs": []
    },
    {
      "cell_type": "code",
      "metadata": {
        "colab": {
          "base_uri": "https://localhost:8080/"
        },
        "id": "1iJy64Lxd3PL",
        "outputId": "610c47ba-6915-42e6-932d-a0ede853d8b3"
      },
      "source": [
        "ss.target.describe()"
      ],
      "execution_count": null,
      "outputs": [
        {
          "output_type": "execute_result",
          "data": {
            "text/plain": [
              "count    34.000000\n",
              "mean      0.505726\n",
              "std       0.450314\n",
              "min       0.000602\n",
              "25%       0.016608\n",
              "50%       0.738603\n",
              "75%       0.958265\n",
              "max       0.998740\n",
              "Name: target, dtype: float64"
            ]
          },
          "metadata": {
            "tags": []
          },
          "execution_count": 64
        }
      ]
    },
    {
      "cell_type": "code",
      "metadata": {
        "colab": {
          "base_uri": "https://localhost:8080/",
          "height": 204
        },
        "id": "__XcHRxdd6Ue",
        "outputId": "00eed537-1e43-4b39-dce3-cf376de9bcc8"
      },
      "source": [
        "ss.head()"
      ],
      "execution_count": null,
      "outputs": [
        {
          "output_type": "execute_result",
          "data": {
            "text/html": [
              "<div>\n",
              "<style scoped>\n",
              "    .dataframe tbody tr th:only-of-type {\n",
              "        vertical-align: middle;\n",
              "    }\n",
              "\n",
              "    .dataframe tbody tr th {\n",
              "        vertical-align: top;\n",
              "    }\n",
              "\n",
              "    .dataframe thead th {\n",
              "        text-align: right;\n",
              "    }\n",
              "</style>\n",
              "<table border=\"1\" class=\"dataframe\">\n",
              "  <thead>\n",
              "    <tr style=\"text-align: right;\">\n",
              "      <th></th>\n",
              "      <th>img_IDs</th>\n",
              "      <th>target</th>\n",
              "    </tr>\n",
              "  </thead>\n",
              "  <tbody>\n",
              "    <tr>\n",
              "      <th>0</th>\n",
              "      <td>ID_07VWE8S4AH</td>\n",
              "      <td>0.802146</td>\n",
              "    </tr>\n",
              "    <tr>\n",
              "      <th>1</th>\n",
              "      <td>ID_1TTSQF7HN0</td>\n",
              "      <td>0.011884</td>\n",
              "    </tr>\n",
              "    <tr>\n",
              "      <th>2</th>\n",
              "      <td>ID_21WVBU9ZMU</td>\n",
              "      <td>0.981092</td>\n",
              "    </tr>\n",
              "    <tr>\n",
              "      <th>3</th>\n",
              "      <td>ID_2MHAFTL1KN</td>\n",
              "      <td>0.108803</td>\n",
              "    </tr>\n",
              "    <tr>\n",
              "      <th>4</th>\n",
              "      <td>ID_37ULEGW12M</td>\n",
              "      <td>0.003697</td>\n",
              "    </tr>\n",
              "  </tbody>\n",
              "</table>\n",
              "</div>"
            ],
            "text/plain": [
              "         img_IDs    target\n",
              "0  ID_07VWE8S4AH  0.802146\n",
              "1  ID_1TTSQF7HN0  0.011884\n",
              "2  ID_21WVBU9ZMU  0.981092\n",
              "3  ID_2MHAFTL1KN  0.108803\n",
              "4  ID_37ULEGW12M  0.003697"
            ]
          },
          "metadata": {
            "tags": []
          },
          "execution_count": 65
        }
      ]
    },
    {
      "cell_type": "markdown",
      "metadata": {
        "id": "4RwB1UoVmEUL"
      },
      "source": [
        "# Submission"
      ]
    },
    {
      "cell_type": "code",
      "metadata": {
        "id": "jJn6bvBNmPvM"
      },
      "source": [
        "ss.to_csv(\"/content/submit.csv\", index=False)"
      ],
      "execution_count": null,
      "outputs": []
    },
    {
      "cell_type": "code",
      "metadata": {
        "colab": {
          "base_uri": "https://localhost:8080/",
          "height": 103
        },
        "id": "jtuK8PJaeVfA",
        "outputId": "706054ce-d5ed-4dad-de71-fa38d7155704"
      },
      "source": [
        "user.which_challenge"
      ],
      "execution_count": null,
      "outputs": [
        {
          "output_type": "stream",
          "text": [
            "\n",
            "[ 🟢 ] You are currently enrolled in : cameroon-advance-analytic-ultrasound-image-challenge challenge,\n",
            "\tGiven ultrasounds of kidneys can you detect renal failure?.\n",
            "\n"
          ],
          "name": "stdout"
        },
        {
          "output_type": "execute_result",
          "data": {
            "application/vnd.google.colaboratory.intrinsic+json": {
              "type": "string"
            },
            "text/plain": [
              "'cameroon-advance-analytic-ultrasound-image-challenge'"
            ]
          },
          "metadata": {
            "tags": []
          },
          "execution_count": 67
        }
      ]
    },
    {
      "cell_type": "code",
      "metadata": {
        "colab": {
          "base_uri": "https://localhost:8080/"
        },
        "id": "jVOUzfKgeJBW",
        "outputId": "d7e243d0-a16a-4b58-ee28-dc5e607baeb5"
      },
      "source": [
        "user.submit(filepaths=[\"/content/submit.csv\"], comments=[\" Final submission\"])"
      ],
      "execution_count": null,
      "outputs": [
        {
          "output_type": "stream",
          "text": [
            "Submit content/submit.csv: 100%|███████████████████████████████| 1.13k/1.13k [00:00<00:00, 1.95ko/s]"
          ],
          "name": "stderr"
        },
        {
          "output_type": "stream",
          "text": [
            "\n",
            "[ 🟢 ] Submission ID: bhrY9Aqj - File submitted : /content/submit.csv\n",
            "\n"
          ],
          "name": "stdout"
        },
        {
          "output_type": "stream",
          "text": [
            "\n"
          ],
          "name": "stderr"
        }
      ]
    },
    {
      "cell_type": "code",
      "metadata": {
        "colab": {
          "base_uri": "https://localhost:8080/"
        },
        "id": "SCOwZq7IerGb",
        "outputId": "829ee7a1-30f2-48dc-ab03-95b2f0f794db"
      },
      "source": [
        "user.submission_board()"
      ],
      "execution_count": null,
      "outputs": [
        {
          "output_type": "stream",
          "text": [
            "__________________________________________________________________________________________________________________________________\n",
            "|      |          |                  |                |                               |                         \n",
            "|status|    id    |       date       |     score      |           filename            |         comment         \n",
            "|      |          |                  |                |                               |                         \n",
            "----------------------------------------------------------------------------------------------------------------------------------\n",
            "|  🟢  | bhrY9Aqj |02 Jun 2021, 10:36| 0.863636363636 |submit.csv                     | Final submission                       \n",
            "----------------------------------------------------------------------------------------------------------------------------------\n",
            "|  🟢  | ZQ66CrBA |28 May 2021, 17:35| 0.681818181818 |submission.csv                 |Baseline                                \n",
            "----------------------------------------------------------------------------------------------------------------------------------\n",
            "|  🟢  | qmwAqJra |28 May 2021, 17:11| 0.878787878787 |submit_15.csv                  | model  - 1 times-200 -b                \n",
            "----------------------------------------------------------------------------------------------------------------------------------\n",
            "|  🟢  | Cv9LjqzR |10 May 2021, 19:54| 0.909090909090 |submission.csv                 |Baseline                                \n",
            "----------------------------------------------------------------------------------------------------------------------------------\n",
            "|  🟢  | q1c4MZFu |10 May 2021, 17:54| 0.954545454545 |submission.csv                 |Baseline                                \n",
            "----------------------------------------------------------------------------------------------------------------------------------\n",
            "|  🟢  | Csm9NgG4 |10 May 2021, 17:28| 0.924242424242 |submission.csv                 |Baseline                                \n",
            "----------------------------------------------------------------------------------------------------------------------------------\n",
            "|  🟢  | zDDFx3z2 |10 May 2021, 16:21|      1.0       |submission.csv                 |Baseline                                \n",
            "----------------------------------------------------------------------------------------------------------------------------------\n",
            "|  🟢  | 758LZSGb |10 May 2021, 15:25| 0.681818181818 |submission.csv                 |Baseline                                \n",
            "----------------------------------------------------------------------------------------------------------------------------------\n",
            "|  🟢  | 187VGVrW |02 May 2021, 14:51| 0.969696969696 |submit_15.csv                  | model  - 1 times-200 -b                \n",
            "----------------------------------------------------------------------------------------------------------------------------------\n",
            "|  🟢  | 8f4YRUsS |02 May 2021, 14:26| 0.893939393939 |submit_15.csv                  | model  - 1 times-200 -b                \n",
            "----------------------------------------------------------------------------------------------------------------------------------\n",
            "|  🟢  | ZHaorRvj |02 May 2021, 14:08| 0.893939393939 |submit_14.csv                  | model  - 1 times-200 -b                \n",
            "----------------------------------------------------------------------------------------------------------------------------------\n",
            "|  🟢  | p1woQshg |02 May 2021, 11:47| 0.681818181818 |submit_13.csv                  |incept3 - 2 - model 1 - 1 times-200 -b  \n",
            "----------------------------------------------------------------------------------------------------------------------------------\n",
            "|  🟢  | xmAesPXH |01 May 2021, 06:26| 0.772727272727 |submit_12.csv                  |incept3 - 2 - model 1 - 1 times-200 -cb \n",
            "----------------------------------------------------------------------------------------------------------------------------------\n",
            "|  🟢  | u5bad9PU |01 May 2021, 06:20| 0.727272727272 |submit_12.csv                  |incept3 - 2 - model 1 - 1 times-200 -cb \n",
            "----------------------------------------------------------------------------------------------------------------------------------\n",
            "|  🟢  | d84tCcgC |01 May 2021, 06:15| 0.787878787878 |submit_11.csv                  |incept3 - 2 - model 1 - 1 times-200 -cb \n",
            "----------------------------------------------------------------------------------------------------------------------------------\n",
            "|  🟢  | 9wyXqjDR |01 May 2021, 06:08| 0.833333333333 |submit_10.csv                  |inceptrn3 - 2 - model 1 - 1 times-200 -c\n",
            "----------------------------------------------------------------------------------------------------------------------------------\n",
            "|  🟢  | TbfWzHMU |01 May 2021, 05:53| 0.878787878787 |submit_10.csv                  |inceptrn3 - 2 - model 1 - 1 times-200 -c\n",
            "----------------------------------------------------------------------------------------------------------------------------------\n",
            "|  🟢  | UDNRu4D3 |30 Apr 2021, 20:29| 0.727272727272 |submit_10.csv                  |inceptrn3 - 2 - model 1 - 1 times-200 -c\n",
            "----------------------------------------------------------------------------------------------------------------------------------\n",
            "|  🟢  | vmsCphib |30 Apr 2021, 17:04| 0.878787878787 |submit_10.csv                  |inceptrn3 - 2 - model 1 - 1 times-200 -c\n",
            "----------------------------------------------------------------------------------------------------------------------------------\n",
            "|  🟢  | DmHtXKsc |29 Apr 2021, 05:38| 0.712121212121 |submit_9.csv                   |incept3 - 2 - model 1 - 1 times-200 -cb \n",
            "----------------------------------------------------------------------------------------------------------------------------------\n",
            "|  🟢  | mpSE3aH9 |29 Apr 2021, 05:33| 0.719696969696 |submit_8.csv                   |incept3 - 2 - model 1 - 1 times-200 -cb \n",
            "----------------------------------------------------------------------------------------------------------------------------------\n",
            "|  🟢  | 3rNEuRkb |29 Apr 2021, 05:26| 0.712121212121 |submit_7.csv                   |incept3 - 2 - model 1 - 1 times-200 -cb \n",
            "----------------------------------------------------------------------------------------------------------------------------------\n",
            "|  🟢  | ifpueCPL |29 Apr 2021, 05:21| 0.757575757575 |submit_6.csv                   |incept3 - 2 - model 1 - 1 times-100 -cb \n",
            "----------------------------------------------------------------------------------------------------------------------------------\n",
            "|  🟢  | uonfJ8Wn |29 Apr 2021, 05:15| 0.757575757575 |submit_6.csv                   |incept3 - 2 - model 1 - 1 times-100 -cb \n",
            "----------------------------------------------------------------------------------------------------------------------------------\n",
            "|  🟢  | p8RyfC4X |29 Apr 2021, 05:10| 0.696969696969 |submit_5.csv                   |incept3 - 2 - model 1 - 1 times-100     \n",
            "----------------------------------------------------------------------------------------------------------------------------------\n",
            "|  🟢  | YHTXp587 |29 Apr 2021, 04:35| 0.924242424242 |submit_4.csv                   |inceptrv2 - 2 - model 1 - 2 times-10-100\n",
            "----------------------------------------------------------------------------------------------------------------------------------\n",
            "|  🟢  | wMcHDepD |29 Apr 2021, 04:23| 0.696969696969 |submit_3.csv                   |incept - 2 - model 1 - 3 times          \n",
            "----------------------------------------------------------------------------------------------------------------------------------\n",
            "|  🟢  | qoKwx34h |27 Apr 2021, 11:25| 0.712121212121 |submit_2.csv                   |incept - 2 - model 1 - 2 times          \n",
            "----------------------------------------------------------------------------------------------------------------------------------\n",
            "|  🟢  | f8g4yHr5 |26 Apr 2021, 14:57|      1.0       |submit_1.csv                   |incept - model 1                        \n",
            "----------------------------------------------------------------------------------------------------------------------------------\n",
            "|  🟢  | Y7r8A9vE |26 Apr 2021, 10:16| 0.954545454545 |submission.csv                 |with --zindi_camairai_kidney_pb_P100-- m\n",
            "----------------------------------------------------------------------------------------------------------------------------------\n",
            "|  🟢  | tSbAuFLG |26 Apr 2021, 08:46| 0.924242424242 |submission.csv                 |with --zindi_camairai_kidney_pb_P100-- m\n",
            "----------------------------------------------------------------------------------------------------------------------------------\n",
            "|  🟢  | jtX4HtqH |24 Apr 2021, 03:43| 0.803030303030 |submission.csv                 |with --zindi_camairai_kidney_pb_P100-- m\n",
            "----------------------------------------------------------------------------------------------------------------------------------\n",
            "|  🟢  | M1ybyfi8 |23 Apr 2021, 19:29| 0.909090909090 |submission.csv                 |with --zindi_camairai_kidney_pb_P100-- m\n",
            "----------------------------------------------------------------------------------------------------------------------------------\n",
            "|  🟢  | 1SfdezQY |23 Apr 2021, 19:24| 0.909090909090 |submission.csv                 |with --zindi_camairai_kidney_pb_P100-- m\n",
            "----------------------------------------------------------------------------------------------------------------------------------\n",
            "|  🟢  | d2AnuJrT |23 Apr 2021, 19:15| 0.848484848484 |submission.csv                 |with --zindi_camairai_kidney_pb_P100-- m\n",
            "----------------------------------------------------------------------------------------------------------------------------------\n",
            "|  🟢  | EkFiXsEb |23 Apr 2021, 12:32| 0.833333333333 |submission.csv                 |with --zindi_camairai_kidney_pb_P100-- m\n",
            "----------------------------------------------------------------------------------------------------------------------------------\n",
            "|  🟢  | 48M3h9bz |23 Apr 2021, 11:25| 0.151515151515 |submission.csv                 |with --zindi_camairai_kidney_pb_P100-- m\n",
            "----------------------------------------------------------------------------------------------------------------------------------\n",
            "|  🟢  | aGLFhoUv |22 Apr 2021, 20:36| 0.757575757575 |submission.csv                 |Baseline                                \n",
            "__________________________________________________________________________________________________________________________________\n",
            "\n",
            "\n"
          ],
          "name": "stdout"
        }
      ]
    },
    {
      "cell_type": "markdown",
      "metadata": {
        "id": "RWYXAXV6bAhI"
      },
      "source": [
        "## Save model"
      ]
    },
    {
      "cell_type": "code",
      "metadata": {
        "id": "OCCBSUlYevBZ"
      },
      "source": [
        "model.save('/content/drive/MyDrive/datasets/zindi/camairai/kidney_pb/model/model_92.h5')"
      ],
      "execution_count": null,
      "outputs": []
    }
  ]
}